{
  "nbformat": 4,
  "nbformat_minor": 0,
  "metadata": {
    "colab": {
      "provenance": []
    },
    "kernelspec": {
      "name": "python3",
      "display_name": "Python 3"
    },
    "language_info": {
      "name": "python"
    }
  },
  "cells": [
    {
      "cell_type": "markdown",
      "source": [
        "# Project Running"
      ],
      "metadata": {
        "id": "W1qihukCllAn"
      }
    },
    {
      "cell_type": "code",
      "execution_count": 1,
      "metadata": {
        "colab": {
          "base_uri": "https://localhost:8080/"
        },
        "id": "6bQj8WBJCnv6",
        "outputId": "cc82379f-247b-462b-b602-7a6678600e07"
      },
      "outputs": [
        {
          "output_type": "stream",
          "name": "stdout",
          "text": [
            "Mounted at /content/drive\n"
          ]
        }
      ],
      "source": [
        "# Mount Google Drive\n",
        "from google.colab import drive\n",
        "drive.mount('/content/drive')"
      ]
    },
    {
      "cell_type": "code",
      "source": [
        "# Import libraries\n",
        "import pandas as pd\n",
        "import numpy as np"
      ],
      "metadata": {
        "id": "8I7jfaAbDdYA"
      },
      "execution_count": 188,
      "outputs": []
    },
    {
      "cell_type": "code",
      "source": [
        "# Load dataset\n",
        "file_path = '/content/drive/MyDrive/Colab Notebooks/Portfolio Projects/Dataset/Activities_new.csv'\n",
        "df = pd.read_csv(file_path)"
      ],
      "metadata": {
        "id": "YyA0N_MUE2qI"
      },
      "execution_count": 189,
      "outputs": []
    },
    {
      "cell_type": "code",
      "source": [
        "# Set the option to display all columns\n",
        "pd.set_option('display.max_columns', None)"
      ],
      "metadata": {
        "id": "_OHvgxdRJ_2q"
      },
      "execution_count": 190,
      "outputs": []
    },
    {
      "cell_type": "markdown",
      "source": [
        "## Data Preprocessing"
      ],
      "metadata": {
        "id": "wU4F5jCfl0FW"
      }
    },
    {
      "cell_type": "code",
      "source": [
        "df.head(2)"
      ],
      "metadata": {
        "colab": {
          "base_uri": "https://localhost:8080/",
          "height": 254
        },
        "id": "ZRwY8nebFJPe",
        "outputId": "7cfa4f1e-0ca6-49e9-c219-f60cb75385a4"
      },
      "execution_count": 191,
      "outputs": [
        {
          "output_type": "execute_result",
          "data": {
            "text/plain": [
              "  Activity Type                 Date  Favorite                        Title  \\\n",
              "0       Running  2023-12-11 10:53:19     False  Eleftherio-Kordelio Running   \n",
              "1       Running  2023-12-09 10:21:58     False  Eleftherio-Kordelio Running   \n",
              "\n",
              "   Distance Calories     Time  Avg HR  Max HR Aerobic TE Avg Run Cadence  \\\n",
              "0     10.60      882  1:01:09     141     155        3.5             170   \n",
              "1     10.84      874  1:00:01     140     159        3.6             172   \n",
              "\n",
              "  Max Run Cadence Avg Pace Best Pace Total Ascent Total Descent  \\\n",
              "0             194     5:46      3:54           97            89   \n",
              "1             179     5:32      4:46          102           109   \n",
              "\n",
              "   Avg Stride Length  Avg Vertical Ratio  Avg Vertical Oscillation  \\\n",
              "0               1.02                   0                         0   \n",
              "1               1.05                   0                         0   \n",
              "\n",
              "   Avg Ground Contact Time  Training Stress Score®  Avg Power  Max Power  \\\n",
              "0                        0                       0          0          0   \n",
              "1                        0                       0          0          0   \n",
              "\n",
              "   Grit  Flow  Avg. Swolf  Avg Stroke Rate  Total Reps Dive Time  Min Temp  \\\n",
              "0     0     0           0                0           0      0:00        17   \n",
              "1     0     0           0                0           0      0:00        17   \n",
              "\n",
              "  Surface Interval Decompression Best Lap Time  Number of Laps  Max Temp  \\\n",
              "0             0:00            No      03:01.92              11        27   \n",
              "1             0:00            No      04:46.93              11        27   \n",
              "\n",
              "  Avg Resp Min Resp Max Resp Moving Time Elapsed Time Min Elevation  \\\n",
              "0       --       --       --     1:00:44      1:01:09            40   \n",
              "1       --       --       --     0:59:58      1:00:01            38   \n",
              "\n",
              "  Max Elevation  \n",
              "0            77  \n",
              "1            82  "
            ],
            "text/html": [
              "\n",
              "  <div id=\"df-7a39b4dc-9ce8-4998-8503-214c6ddb4d8e\" class=\"colab-df-container\">\n",
              "    <div>\n",
              "<style scoped>\n",
              "    .dataframe tbody tr th:only-of-type {\n",
              "        vertical-align: middle;\n",
              "    }\n",
              "\n",
              "    .dataframe tbody tr th {\n",
              "        vertical-align: top;\n",
              "    }\n",
              "\n",
              "    .dataframe thead th {\n",
              "        text-align: right;\n",
              "    }\n",
              "</style>\n",
              "<table border=\"1\" class=\"dataframe\">\n",
              "  <thead>\n",
              "    <tr style=\"text-align: right;\">\n",
              "      <th></th>\n",
              "      <th>Activity Type</th>\n",
              "      <th>Date</th>\n",
              "      <th>Favorite</th>\n",
              "      <th>Title</th>\n",
              "      <th>Distance</th>\n",
              "      <th>Calories</th>\n",
              "      <th>Time</th>\n",
              "      <th>Avg HR</th>\n",
              "      <th>Max HR</th>\n",
              "      <th>Aerobic TE</th>\n",
              "      <th>Avg Run Cadence</th>\n",
              "      <th>Max Run Cadence</th>\n",
              "      <th>Avg Pace</th>\n",
              "      <th>Best Pace</th>\n",
              "      <th>Total Ascent</th>\n",
              "      <th>Total Descent</th>\n",
              "      <th>Avg Stride Length</th>\n",
              "      <th>Avg Vertical Ratio</th>\n",
              "      <th>Avg Vertical Oscillation</th>\n",
              "      <th>Avg Ground Contact Time</th>\n",
              "      <th>Training Stress Score®</th>\n",
              "      <th>Avg Power</th>\n",
              "      <th>Max Power</th>\n",
              "      <th>Grit</th>\n",
              "      <th>Flow</th>\n",
              "      <th>Avg. Swolf</th>\n",
              "      <th>Avg Stroke Rate</th>\n",
              "      <th>Total Reps</th>\n",
              "      <th>Dive Time</th>\n",
              "      <th>Min Temp</th>\n",
              "      <th>Surface Interval</th>\n",
              "      <th>Decompression</th>\n",
              "      <th>Best Lap Time</th>\n",
              "      <th>Number of Laps</th>\n",
              "      <th>Max Temp</th>\n",
              "      <th>Avg Resp</th>\n",
              "      <th>Min Resp</th>\n",
              "      <th>Max Resp</th>\n",
              "      <th>Moving Time</th>\n",
              "      <th>Elapsed Time</th>\n",
              "      <th>Min Elevation</th>\n",
              "      <th>Max Elevation</th>\n",
              "    </tr>\n",
              "  </thead>\n",
              "  <tbody>\n",
              "    <tr>\n",
              "      <th>0</th>\n",
              "      <td>Running</td>\n",
              "      <td>2023-12-11 10:53:19</td>\n",
              "      <td>False</td>\n",
              "      <td>Eleftherio-Kordelio Running</td>\n",
              "      <td>10.60</td>\n",
              "      <td>882</td>\n",
              "      <td>1:01:09</td>\n",
              "      <td>141</td>\n",
              "      <td>155</td>\n",
              "      <td>3.5</td>\n",
              "      <td>170</td>\n",
              "      <td>194</td>\n",
              "      <td>5:46</td>\n",
              "      <td>3:54</td>\n",
              "      <td>97</td>\n",
              "      <td>89</td>\n",
              "      <td>1.02</td>\n",
              "      <td>0</td>\n",
              "      <td>0</td>\n",
              "      <td>0</td>\n",
              "      <td>0</td>\n",
              "      <td>0</td>\n",
              "      <td>0</td>\n",
              "      <td>0</td>\n",
              "      <td>0</td>\n",
              "      <td>0</td>\n",
              "      <td>0</td>\n",
              "      <td>0</td>\n",
              "      <td>0:00</td>\n",
              "      <td>17</td>\n",
              "      <td>0:00</td>\n",
              "      <td>No</td>\n",
              "      <td>03:01.92</td>\n",
              "      <td>11</td>\n",
              "      <td>27</td>\n",
              "      <td>--</td>\n",
              "      <td>--</td>\n",
              "      <td>--</td>\n",
              "      <td>1:00:44</td>\n",
              "      <td>1:01:09</td>\n",
              "      <td>40</td>\n",
              "      <td>77</td>\n",
              "    </tr>\n",
              "    <tr>\n",
              "      <th>1</th>\n",
              "      <td>Running</td>\n",
              "      <td>2023-12-09 10:21:58</td>\n",
              "      <td>False</td>\n",
              "      <td>Eleftherio-Kordelio Running</td>\n",
              "      <td>10.84</td>\n",
              "      <td>874</td>\n",
              "      <td>1:00:01</td>\n",
              "      <td>140</td>\n",
              "      <td>159</td>\n",
              "      <td>3.6</td>\n",
              "      <td>172</td>\n",
              "      <td>179</td>\n",
              "      <td>5:32</td>\n",
              "      <td>4:46</td>\n",
              "      <td>102</td>\n",
              "      <td>109</td>\n",
              "      <td>1.05</td>\n",
              "      <td>0</td>\n",
              "      <td>0</td>\n",
              "      <td>0</td>\n",
              "      <td>0</td>\n",
              "      <td>0</td>\n",
              "      <td>0</td>\n",
              "      <td>0</td>\n",
              "      <td>0</td>\n",
              "      <td>0</td>\n",
              "      <td>0</td>\n",
              "      <td>0</td>\n",
              "      <td>0:00</td>\n",
              "      <td>17</td>\n",
              "      <td>0:00</td>\n",
              "      <td>No</td>\n",
              "      <td>04:46.93</td>\n",
              "      <td>11</td>\n",
              "      <td>27</td>\n",
              "      <td>--</td>\n",
              "      <td>--</td>\n",
              "      <td>--</td>\n",
              "      <td>0:59:58</td>\n",
              "      <td>1:00:01</td>\n",
              "      <td>38</td>\n",
              "      <td>82</td>\n",
              "    </tr>\n",
              "  </tbody>\n",
              "</table>\n",
              "</div>\n",
              "    <div class=\"colab-df-buttons\">\n",
              "\n",
              "  <div class=\"colab-df-container\">\n",
              "    <button class=\"colab-df-convert\" onclick=\"convertToInteractive('df-7a39b4dc-9ce8-4998-8503-214c6ddb4d8e')\"\n",
              "            title=\"Convert this dataframe to an interactive table.\"\n",
              "            style=\"display:none;\">\n",
              "\n",
              "  <svg xmlns=\"http://www.w3.org/2000/svg\" height=\"24px\" viewBox=\"0 -960 960 960\">\n",
              "    <path d=\"M120-120v-720h720v720H120Zm60-500h600v-160H180v160Zm220 220h160v-160H400v160Zm0 220h160v-160H400v160ZM180-400h160v-160H180v160Zm440 0h160v-160H620v160ZM180-180h160v-160H180v160Zm440 0h160v-160H620v160Z\"/>\n",
              "  </svg>\n",
              "    </button>\n",
              "\n",
              "  <style>\n",
              "    .colab-df-container {\n",
              "      display:flex;\n",
              "      gap: 12px;\n",
              "    }\n",
              "\n",
              "    .colab-df-convert {\n",
              "      background-color: #E8F0FE;\n",
              "      border: none;\n",
              "      border-radius: 50%;\n",
              "      cursor: pointer;\n",
              "      display: none;\n",
              "      fill: #1967D2;\n",
              "      height: 32px;\n",
              "      padding: 0 0 0 0;\n",
              "      width: 32px;\n",
              "    }\n",
              "\n",
              "    .colab-df-convert:hover {\n",
              "      background-color: #E2EBFA;\n",
              "      box-shadow: 0px 1px 2px rgba(60, 64, 67, 0.3), 0px 1px 3px 1px rgba(60, 64, 67, 0.15);\n",
              "      fill: #174EA6;\n",
              "    }\n",
              "\n",
              "    .colab-df-buttons div {\n",
              "      margin-bottom: 4px;\n",
              "    }\n",
              "\n",
              "    [theme=dark] .colab-df-convert {\n",
              "      background-color: #3B4455;\n",
              "      fill: #D2E3FC;\n",
              "    }\n",
              "\n",
              "    [theme=dark] .colab-df-convert:hover {\n",
              "      background-color: #434B5C;\n",
              "      box-shadow: 0px 1px 3px 1px rgba(0, 0, 0, 0.15);\n",
              "      filter: drop-shadow(0px 1px 2px rgba(0, 0, 0, 0.3));\n",
              "      fill: #FFFFFF;\n",
              "    }\n",
              "  </style>\n",
              "\n",
              "    <script>\n",
              "      const buttonEl =\n",
              "        document.querySelector('#df-7a39b4dc-9ce8-4998-8503-214c6ddb4d8e button.colab-df-convert');\n",
              "      buttonEl.style.display =\n",
              "        google.colab.kernel.accessAllowed ? 'block' : 'none';\n",
              "\n",
              "      async function convertToInteractive(key) {\n",
              "        const element = document.querySelector('#df-7a39b4dc-9ce8-4998-8503-214c6ddb4d8e');\n",
              "        const dataTable =\n",
              "          await google.colab.kernel.invokeFunction('convertToInteractive',\n",
              "                                                    [key], {});\n",
              "        if (!dataTable) return;\n",
              "\n",
              "        const docLinkHtml = 'Like what you see? Visit the ' +\n",
              "          '<a target=\"_blank\" href=https://colab.research.google.com/notebooks/data_table.ipynb>data table notebook</a>'\n",
              "          + ' to learn more about interactive tables.';\n",
              "        element.innerHTML = '';\n",
              "        dataTable['output_type'] = 'display_data';\n",
              "        await google.colab.output.renderOutput(dataTable, element);\n",
              "        const docLink = document.createElement('div');\n",
              "        docLink.innerHTML = docLinkHtml;\n",
              "        element.appendChild(docLink);\n",
              "      }\n",
              "    </script>\n",
              "  </div>\n",
              "\n",
              "\n",
              "<div id=\"df-aafc73a1-de08-4c41-8ae8-975d08f492ec\">\n",
              "  <button class=\"colab-df-quickchart\" onclick=\"quickchart('df-aafc73a1-de08-4c41-8ae8-975d08f492ec')\"\n",
              "            title=\"Suggest charts\"\n",
              "            style=\"display:none;\">\n",
              "\n",
              "<svg xmlns=\"http://www.w3.org/2000/svg\" height=\"24px\"viewBox=\"0 0 24 24\"\n",
              "     width=\"24px\">\n",
              "    <g>\n",
              "        <path d=\"M19 3H5c-1.1 0-2 .9-2 2v14c0 1.1.9 2 2 2h14c1.1 0 2-.9 2-2V5c0-1.1-.9-2-2-2zM9 17H7v-7h2v7zm4 0h-2V7h2v10zm4 0h-2v-4h2v4z\"/>\n",
              "    </g>\n",
              "</svg>\n",
              "  </button>\n",
              "\n",
              "<style>\n",
              "  .colab-df-quickchart {\n",
              "      --bg-color: #E8F0FE;\n",
              "      --fill-color: #1967D2;\n",
              "      --hover-bg-color: #E2EBFA;\n",
              "      --hover-fill-color: #174EA6;\n",
              "      --disabled-fill-color: #AAA;\n",
              "      --disabled-bg-color: #DDD;\n",
              "  }\n",
              "\n",
              "  [theme=dark] .colab-df-quickchart {\n",
              "      --bg-color: #3B4455;\n",
              "      --fill-color: #D2E3FC;\n",
              "      --hover-bg-color: #434B5C;\n",
              "      --hover-fill-color: #FFFFFF;\n",
              "      --disabled-bg-color: #3B4455;\n",
              "      --disabled-fill-color: #666;\n",
              "  }\n",
              "\n",
              "  .colab-df-quickchart {\n",
              "    background-color: var(--bg-color);\n",
              "    border: none;\n",
              "    border-radius: 50%;\n",
              "    cursor: pointer;\n",
              "    display: none;\n",
              "    fill: var(--fill-color);\n",
              "    height: 32px;\n",
              "    padding: 0;\n",
              "    width: 32px;\n",
              "  }\n",
              "\n",
              "  .colab-df-quickchart:hover {\n",
              "    background-color: var(--hover-bg-color);\n",
              "    box-shadow: 0 1px 2px rgba(60, 64, 67, 0.3), 0 1px 3px 1px rgba(60, 64, 67, 0.15);\n",
              "    fill: var(--button-hover-fill-color);\n",
              "  }\n",
              "\n",
              "  .colab-df-quickchart-complete:disabled,\n",
              "  .colab-df-quickchart-complete:disabled:hover {\n",
              "    background-color: var(--disabled-bg-color);\n",
              "    fill: var(--disabled-fill-color);\n",
              "    box-shadow: none;\n",
              "  }\n",
              "\n",
              "  .colab-df-spinner {\n",
              "    border: 2px solid var(--fill-color);\n",
              "    border-color: transparent;\n",
              "    border-bottom-color: var(--fill-color);\n",
              "    animation:\n",
              "      spin 1s steps(1) infinite;\n",
              "  }\n",
              "\n",
              "  @keyframes spin {\n",
              "    0% {\n",
              "      border-color: transparent;\n",
              "      border-bottom-color: var(--fill-color);\n",
              "      border-left-color: var(--fill-color);\n",
              "    }\n",
              "    20% {\n",
              "      border-color: transparent;\n",
              "      border-left-color: var(--fill-color);\n",
              "      border-top-color: var(--fill-color);\n",
              "    }\n",
              "    30% {\n",
              "      border-color: transparent;\n",
              "      border-left-color: var(--fill-color);\n",
              "      border-top-color: var(--fill-color);\n",
              "      border-right-color: var(--fill-color);\n",
              "    }\n",
              "    40% {\n",
              "      border-color: transparent;\n",
              "      border-right-color: var(--fill-color);\n",
              "      border-top-color: var(--fill-color);\n",
              "    }\n",
              "    60% {\n",
              "      border-color: transparent;\n",
              "      border-right-color: var(--fill-color);\n",
              "    }\n",
              "    80% {\n",
              "      border-color: transparent;\n",
              "      border-right-color: var(--fill-color);\n",
              "      border-bottom-color: var(--fill-color);\n",
              "    }\n",
              "    90% {\n",
              "      border-color: transparent;\n",
              "      border-bottom-color: var(--fill-color);\n",
              "    }\n",
              "  }\n",
              "</style>\n",
              "\n",
              "  <script>\n",
              "    async function quickchart(key) {\n",
              "      const quickchartButtonEl =\n",
              "        document.querySelector('#' + key + ' button');\n",
              "      quickchartButtonEl.disabled = true;  // To prevent multiple clicks.\n",
              "      quickchartButtonEl.classList.add('colab-df-spinner');\n",
              "      try {\n",
              "        const charts = await google.colab.kernel.invokeFunction(\n",
              "            'suggestCharts', [key], {});\n",
              "      } catch (error) {\n",
              "        console.error('Error during call to suggestCharts:', error);\n",
              "      }\n",
              "      quickchartButtonEl.classList.remove('colab-df-spinner');\n",
              "      quickchartButtonEl.classList.add('colab-df-quickchart-complete');\n",
              "    }\n",
              "    (() => {\n",
              "      let quickchartButtonEl =\n",
              "        document.querySelector('#df-aafc73a1-de08-4c41-8ae8-975d08f492ec button');\n",
              "      quickchartButtonEl.style.display =\n",
              "        google.colab.kernel.accessAllowed ? 'block' : 'none';\n",
              "    })();\n",
              "  </script>\n",
              "</div>\n",
              "    </div>\n",
              "  </div>\n"
            ]
          },
          "metadata": {},
          "execution_count": 191
        }
      ]
    },
    {
      "cell_type": "code",
      "source": [
        "# List of columns to drop\n",
        "columns_to_drop = ['Favorite', 'Aerobic TE', 'Max Run Cadence', 'Best Pace', 'Avg Vertical Ratio', 'Avg Vertical Oscillation', 'Avg Ground Contact Time', 'Training Stress Score®', 'Avg Power', 'Max Power', 'Grit', 'Flow', 'Avg. Swolf', 'Avg Stroke Rate', 'Total Reps', 'Dive Time', 'Surface Interval', 'Decompression', 'Best Lap Time', 'Number of Laps', 'Avg Resp', 'Min Resp', 'Max Resp', 'Elapsed Time']\n",
        "\n",
        "# Drop the specified columns\n",
        "df = df.drop(columns=columns_to_drop)\n"
      ],
      "metadata": {
        "id": "xwXOBCXeKxs7"
      },
      "execution_count": 192,
      "outputs": []
    },
    {
      "cell_type": "code",
      "source": [
        "# Comprehensive overview of the DataFrame\n",
        "# Checking null values and data types\n",
        "df.info()"
      ],
      "metadata": {
        "colab": {
          "base_uri": "https://localhost:8080/"
        },
        "id": "FLspU0jmJWIH",
        "outputId": "ea4a1a78-287c-4d76-d3b9-d8264175c477"
      },
      "execution_count": 193,
      "outputs": [
        {
          "output_type": "stream",
          "name": "stdout",
          "text": [
            "<class 'pandas.core.frame.DataFrame'>\n",
            "RangeIndex: 656 entries, 0 to 655\n",
            "Data columns (total 18 columns):\n",
            " #   Column             Non-Null Count  Dtype  \n",
            "---  ------             --------------  -----  \n",
            " 0   Activity Type      656 non-null    object \n",
            " 1   Date               656 non-null    object \n",
            " 2   Title              656 non-null    object \n",
            " 3   Distance           656 non-null    float64\n",
            " 4   Calories           656 non-null    object \n",
            " 5   Time               656 non-null    object \n",
            " 6   Avg HR             656 non-null    int64  \n",
            " 7   Max HR             656 non-null    int64  \n",
            " 8   Avg Run Cadence    656 non-null    object \n",
            " 9   Avg Pace           656 non-null    object \n",
            " 10  Total Ascent       656 non-null    object \n",
            " 11  Total Descent      656 non-null    object \n",
            " 12  Avg Stride Length  656 non-null    float64\n",
            " 13  Min Temp           656 non-null    int64  \n",
            " 14  Max Temp           656 non-null    int64  \n",
            " 15  Moving Time        656 non-null    object \n",
            " 16  Min Elevation      656 non-null    object \n",
            " 17  Max Elevation      656 non-null    object \n",
            "dtypes: float64(2), int64(4), object(12)\n",
            "memory usage: 92.4+ KB\n"
          ]
        }
      ]
    },
    {
      "cell_type": "markdown",
      "source": [
        "### Type conversion"
      ],
      "metadata": {
        "id": "kDRBbUGwE6ld"
      }
    },
    {
      "cell_type": "markdown",
      "source": [
        "**Before converting the data type of certain columns:**\n",
        "\n",
        "**We need to ensure that there are no delimiters in the data to avoid errors during the conversion process.**"
      ],
      "metadata": {
        "id": "TmkLxTJXPDbX"
      }
    },
    {
      "cell_type": "code",
      "source": [
        "# These columns may potentially contain the ',' delimiter\n",
        "columns_to_clean = ['Calories', 'Avg Run Cadence', 'Total Ascent', 'Total Descent', 'Min Elevation', 'Max Elevation']\n",
        "\n",
        "for column in columns_to_clean:\n",
        "    df[column] = df[column].str.replace(',', '')"
      ],
      "metadata": {
        "id": "cvKy_wLSO_4Q"
      },
      "execution_count": 195,
      "outputs": []
    },
    {
      "cell_type": "code",
      "source": [
        "# Columns to convert to integers\n",
        "columns_to_clean = ['Calories', 'Avg Run Cadence', 'Total Ascent', 'Total Descent', 'Min Elevation', 'Max Elevation']\n",
        "\n",
        "# Convert columns to integers\n",
        "df[columns_to_clean] = df[columns_to_clean].apply(pd.to_numeric, errors='coerce') # I used the coerce function, because there were some non-numeric values."
      ],
      "metadata": {
        "id": "RIA2B_V3OHBm"
      },
      "execution_count": 196,
      "outputs": []
    },
    {
      "cell_type": "code",
      "source": [
        "# Convert 'Date' to datetime\n",
        "df['Date'] = pd.to_datetime(df['Date'])\n",
        "\n",
        "# Convert Time and Moving Time columns to timedelta\n",
        "df['Time'] = pd.to_timedelta(df['Time'])\n",
        "df['Moving Time'] = pd.to_timedelta(df['Moving Time'])"
      ],
      "metadata": {
        "id": "umwlr4XtUxCW"
      },
      "execution_count": 197,
      "outputs": []
    },
    {
      "cell_type": "code",
      "source": [
        "# Convert Avg Pace column to timedelta\n",
        "df['Avg Pace'] = pd.to_timedelta('00:' + df['Avg Pace'])"
      ],
      "metadata": {
        "id": "a_ReAKlHbbOb"
      },
      "execution_count": 198,
      "outputs": []
    },
    {
      "cell_type": "markdown",
      "source": [
        "### Null handling"
      ],
      "metadata": {
        "id": "GLXUVyHaEwC_"
      }
    },
    {
      "cell_type": "code",
      "source": [
        "df.isna().sum()"
      ],
      "metadata": {
        "colab": {
          "base_uri": "https://localhost:8080/"
        },
        "id": "PpwDBngJViOO",
        "outputId": "b65bfadc-6b5d-48d7-b023-1a71149e5510"
      },
      "execution_count": 199,
      "outputs": [
        {
          "output_type": "execute_result",
          "data": {
            "text/plain": [
              "Activity Type         0\n",
              "Date                  0\n",
              "Title                 0\n",
              "Distance              0\n",
              "Calories              0\n",
              "Time                  0\n",
              "Avg HR                0\n",
              "Max HR                0\n",
              "Avg Run Cadence      42\n",
              "Avg Pace              0\n",
              "Total Ascent         48\n",
              "Total Descent        48\n",
              "Avg Stride Length     0\n",
              "Min Temp              0\n",
              "Max Temp              0\n",
              "Moving Time           0\n",
              "Min Elevation        48\n",
              "Max Elevation        48\n",
              "dtype: int64"
            ]
          },
          "metadata": {},
          "execution_count": 199
        }
      ]
    },
    {
      "cell_type": "code",
      "source": [
        "# Check null values in Avg Run Cadence based on Activity Type\n",
        "null_values_by_activity_type = df.groupby('Activity Type')['Avg Run Cadence'].apply(lambda x: x.isnull().sum())\n",
        "\n",
        "# Display the result\n",
        "print(null_values_by_activity_type)\n"
      ],
      "metadata": {
        "id": "CpSmHCtLiBvl",
        "outputId": "fd406e24-42b2-48bb-bddf-2a5ab26498a9",
        "colab": {
          "base_uri": "https://localhost:8080/"
        }
      },
      "execution_count": 200,
      "outputs": [
        {
          "output_type": "stream",
          "name": "stdout",
          "text": [
            "Activity Type\n",
            "Running              42\n",
            "Trail Running         0\n",
            "Treadmill Running     0\n",
            "Name: Avg Run Cadence, dtype: int64\n"
          ]
        }
      ]
    },
    {
      "cell_type": "code",
      "source": [
        "# Calculate the Avg Running Cadence\n",
        "avg_running_cadence = df.loc[df['Activity Type'] == 'Running', 'Avg Run Cadence'].mean()\n",
        "print(avg_running_cadence)"
      ],
      "metadata": {
        "id": "Vv4jBz2Hi8rU",
        "outputId": "8c7c1d6c-6418-443a-8cbf-500fcd656904",
        "colab": {
          "base_uri": "https://localhost:8080/"
        }
      },
      "execution_count": 201,
      "outputs": [
        {
          "output_type": "stream",
          "name": "stdout",
          "text": [
            "171.80388692579504\n"
          ]
        }
      ]
    },
    {
      "cell_type": "code",
      "source": [
        "# Replace missing values with the rounded average as an integer\n",
        "df['Avg Run Cadence'].fillna(round(avg_running_cadence), inplace=True)"
      ],
      "metadata": {
        "id": "qQUrC9Pvjmbo"
      },
      "execution_count": 202,
      "outputs": []
    },
    {
      "cell_type": "markdown",
      "source": [
        "**Same as before, I want to investigate the pattern of missing values in these columns based on 'Activity Type' to make informed decisions on handling them.**"
      ],
      "metadata": {
        "id": "Amjtvv9dk5rM"
      }
    },
    {
      "cell_type": "code",
      "source": [
        "# Group by 'Activity Type' and count missing values for specific columns\n",
        "df.groupby('Activity Type')[['Total Ascent', 'Total Descent', 'Min Elevation', 'Max Elevation']].apply(lambda x: x.isna().sum())"
      ],
      "metadata": {
        "id": "rVrsH3h4k5Y6",
        "outputId": "3b534c78-7521-427d-8eb1-5ee4dbb0344b",
        "colab": {
          "base_uri": "https://localhost:8080/",
          "height": 175
        }
      },
      "execution_count": 204,
      "outputs": [
        {
          "output_type": "execute_result",
          "data": {
            "text/plain": [
              "                   Total Ascent  Total Descent  Min Elevation  Max Elevation\n",
              "Activity Type                                                               \n",
              "Running                      42             42             42             42\n",
              "Trail Running                 0              0              0              0\n",
              "Treadmill Running             6              6              6              6"
            ],
            "text/html": [
              "\n",
              "  <div id=\"df-1ae36226-ba82-4e40-8418-543cdbf0bba9\" class=\"colab-df-container\">\n",
              "    <div>\n",
              "<style scoped>\n",
              "    .dataframe tbody tr th:only-of-type {\n",
              "        vertical-align: middle;\n",
              "    }\n",
              "\n",
              "    .dataframe tbody tr th {\n",
              "        vertical-align: top;\n",
              "    }\n",
              "\n",
              "    .dataframe thead th {\n",
              "        text-align: right;\n",
              "    }\n",
              "</style>\n",
              "<table border=\"1\" class=\"dataframe\">\n",
              "  <thead>\n",
              "    <tr style=\"text-align: right;\">\n",
              "      <th></th>\n",
              "      <th>Total Ascent</th>\n",
              "      <th>Total Descent</th>\n",
              "      <th>Min Elevation</th>\n",
              "      <th>Max Elevation</th>\n",
              "    </tr>\n",
              "    <tr>\n",
              "      <th>Activity Type</th>\n",
              "      <th></th>\n",
              "      <th></th>\n",
              "      <th></th>\n",
              "      <th></th>\n",
              "    </tr>\n",
              "  </thead>\n",
              "  <tbody>\n",
              "    <tr>\n",
              "      <th>Running</th>\n",
              "      <td>42</td>\n",
              "      <td>42</td>\n",
              "      <td>42</td>\n",
              "      <td>42</td>\n",
              "    </tr>\n",
              "    <tr>\n",
              "      <th>Trail Running</th>\n",
              "      <td>0</td>\n",
              "      <td>0</td>\n",
              "      <td>0</td>\n",
              "      <td>0</td>\n",
              "    </tr>\n",
              "    <tr>\n",
              "      <th>Treadmill Running</th>\n",
              "      <td>6</td>\n",
              "      <td>6</td>\n",
              "      <td>6</td>\n",
              "      <td>6</td>\n",
              "    </tr>\n",
              "  </tbody>\n",
              "</table>\n",
              "</div>\n",
              "    <div class=\"colab-df-buttons\">\n",
              "\n",
              "  <div class=\"colab-df-container\">\n",
              "    <button class=\"colab-df-convert\" onclick=\"convertToInteractive('df-1ae36226-ba82-4e40-8418-543cdbf0bba9')\"\n",
              "            title=\"Convert this dataframe to an interactive table.\"\n",
              "            style=\"display:none;\">\n",
              "\n",
              "  <svg xmlns=\"http://www.w3.org/2000/svg\" height=\"24px\" viewBox=\"0 -960 960 960\">\n",
              "    <path d=\"M120-120v-720h720v720H120Zm60-500h600v-160H180v160Zm220 220h160v-160H400v160Zm0 220h160v-160H400v160ZM180-400h160v-160H180v160Zm440 0h160v-160H620v160ZM180-180h160v-160H180v160Zm440 0h160v-160H620v160Z\"/>\n",
              "  </svg>\n",
              "    </button>\n",
              "\n",
              "  <style>\n",
              "    .colab-df-container {\n",
              "      display:flex;\n",
              "      gap: 12px;\n",
              "    }\n",
              "\n",
              "    .colab-df-convert {\n",
              "      background-color: #E8F0FE;\n",
              "      border: none;\n",
              "      border-radius: 50%;\n",
              "      cursor: pointer;\n",
              "      display: none;\n",
              "      fill: #1967D2;\n",
              "      height: 32px;\n",
              "      padding: 0 0 0 0;\n",
              "      width: 32px;\n",
              "    }\n",
              "\n",
              "    .colab-df-convert:hover {\n",
              "      background-color: #E2EBFA;\n",
              "      box-shadow: 0px 1px 2px rgba(60, 64, 67, 0.3), 0px 1px 3px 1px rgba(60, 64, 67, 0.15);\n",
              "      fill: #174EA6;\n",
              "    }\n",
              "\n",
              "    .colab-df-buttons div {\n",
              "      margin-bottom: 4px;\n",
              "    }\n",
              "\n",
              "    [theme=dark] .colab-df-convert {\n",
              "      background-color: #3B4455;\n",
              "      fill: #D2E3FC;\n",
              "    }\n",
              "\n",
              "    [theme=dark] .colab-df-convert:hover {\n",
              "      background-color: #434B5C;\n",
              "      box-shadow: 0px 1px 3px 1px rgba(0, 0, 0, 0.15);\n",
              "      filter: drop-shadow(0px 1px 2px rgba(0, 0, 0, 0.3));\n",
              "      fill: #FFFFFF;\n",
              "    }\n",
              "  </style>\n",
              "\n",
              "    <script>\n",
              "      const buttonEl =\n",
              "        document.querySelector('#df-1ae36226-ba82-4e40-8418-543cdbf0bba9 button.colab-df-convert');\n",
              "      buttonEl.style.display =\n",
              "        google.colab.kernel.accessAllowed ? 'block' : 'none';\n",
              "\n",
              "      async function convertToInteractive(key) {\n",
              "        const element = document.querySelector('#df-1ae36226-ba82-4e40-8418-543cdbf0bba9');\n",
              "        const dataTable =\n",
              "          await google.colab.kernel.invokeFunction('convertToInteractive',\n",
              "                                                    [key], {});\n",
              "        if (!dataTable) return;\n",
              "\n",
              "        const docLinkHtml = 'Like what you see? Visit the ' +\n",
              "          '<a target=\"_blank\" href=https://colab.research.google.com/notebooks/data_table.ipynb>data table notebook</a>'\n",
              "          + ' to learn more about interactive tables.';\n",
              "        element.innerHTML = '';\n",
              "        dataTable['output_type'] = 'display_data';\n",
              "        await google.colab.output.renderOutput(dataTable, element);\n",
              "        const docLink = document.createElement('div');\n",
              "        docLink.innerHTML = docLinkHtml;\n",
              "        element.appendChild(docLink);\n",
              "      }\n",
              "    </script>\n",
              "  </div>\n",
              "\n",
              "\n",
              "<div id=\"df-9f31fbe9-f57f-4b06-a634-8546b9b4725b\">\n",
              "  <button class=\"colab-df-quickchart\" onclick=\"quickchart('df-9f31fbe9-f57f-4b06-a634-8546b9b4725b')\"\n",
              "            title=\"Suggest charts\"\n",
              "            style=\"display:none;\">\n",
              "\n",
              "<svg xmlns=\"http://www.w3.org/2000/svg\" height=\"24px\"viewBox=\"0 0 24 24\"\n",
              "     width=\"24px\">\n",
              "    <g>\n",
              "        <path d=\"M19 3H5c-1.1 0-2 .9-2 2v14c0 1.1.9 2 2 2h14c1.1 0 2-.9 2-2V5c0-1.1-.9-2-2-2zM9 17H7v-7h2v7zm4 0h-2V7h2v10zm4 0h-2v-4h2v4z\"/>\n",
              "    </g>\n",
              "</svg>\n",
              "  </button>\n",
              "\n",
              "<style>\n",
              "  .colab-df-quickchart {\n",
              "      --bg-color: #E8F0FE;\n",
              "      --fill-color: #1967D2;\n",
              "      --hover-bg-color: #E2EBFA;\n",
              "      --hover-fill-color: #174EA6;\n",
              "      --disabled-fill-color: #AAA;\n",
              "      --disabled-bg-color: #DDD;\n",
              "  }\n",
              "\n",
              "  [theme=dark] .colab-df-quickchart {\n",
              "      --bg-color: #3B4455;\n",
              "      --fill-color: #D2E3FC;\n",
              "      --hover-bg-color: #434B5C;\n",
              "      --hover-fill-color: #FFFFFF;\n",
              "      --disabled-bg-color: #3B4455;\n",
              "      --disabled-fill-color: #666;\n",
              "  }\n",
              "\n",
              "  .colab-df-quickchart {\n",
              "    background-color: var(--bg-color);\n",
              "    border: none;\n",
              "    border-radius: 50%;\n",
              "    cursor: pointer;\n",
              "    display: none;\n",
              "    fill: var(--fill-color);\n",
              "    height: 32px;\n",
              "    padding: 0;\n",
              "    width: 32px;\n",
              "  }\n",
              "\n",
              "  .colab-df-quickchart:hover {\n",
              "    background-color: var(--hover-bg-color);\n",
              "    box-shadow: 0 1px 2px rgba(60, 64, 67, 0.3), 0 1px 3px 1px rgba(60, 64, 67, 0.15);\n",
              "    fill: var(--button-hover-fill-color);\n",
              "  }\n",
              "\n",
              "  .colab-df-quickchart-complete:disabled,\n",
              "  .colab-df-quickchart-complete:disabled:hover {\n",
              "    background-color: var(--disabled-bg-color);\n",
              "    fill: var(--disabled-fill-color);\n",
              "    box-shadow: none;\n",
              "  }\n",
              "\n",
              "  .colab-df-spinner {\n",
              "    border: 2px solid var(--fill-color);\n",
              "    border-color: transparent;\n",
              "    border-bottom-color: var(--fill-color);\n",
              "    animation:\n",
              "      spin 1s steps(1) infinite;\n",
              "  }\n",
              "\n",
              "  @keyframes spin {\n",
              "    0% {\n",
              "      border-color: transparent;\n",
              "      border-bottom-color: var(--fill-color);\n",
              "      border-left-color: var(--fill-color);\n",
              "    }\n",
              "    20% {\n",
              "      border-color: transparent;\n",
              "      border-left-color: var(--fill-color);\n",
              "      border-top-color: var(--fill-color);\n",
              "    }\n",
              "    30% {\n",
              "      border-color: transparent;\n",
              "      border-left-color: var(--fill-color);\n",
              "      border-top-color: var(--fill-color);\n",
              "      border-right-color: var(--fill-color);\n",
              "    }\n",
              "    40% {\n",
              "      border-color: transparent;\n",
              "      border-right-color: var(--fill-color);\n",
              "      border-top-color: var(--fill-color);\n",
              "    }\n",
              "    60% {\n",
              "      border-color: transparent;\n",
              "      border-right-color: var(--fill-color);\n",
              "    }\n",
              "    80% {\n",
              "      border-color: transparent;\n",
              "      border-right-color: var(--fill-color);\n",
              "      border-bottom-color: var(--fill-color);\n",
              "    }\n",
              "    90% {\n",
              "      border-color: transparent;\n",
              "      border-bottom-color: var(--fill-color);\n",
              "    }\n",
              "  }\n",
              "</style>\n",
              "\n",
              "  <script>\n",
              "    async function quickchart(key) {\n",
              "      const quickchartButtonEl =\n",
              "        document.querySelector('#' + key + ' button');\n",
              "      quickchartButtonEl.disabled = true;  // To prevent multiple clicks.\n",
              "      quickchartButtonEl.classList.add('colab-df-spinner');\n",
              "      try {\n",
              "        const charts = await google.colab.kernel.invokeFunction(\n",
              "            'suggestCharts', [key], {});\n",
              "      } catch (error) {\n",
              "        console.error('Error during call to suggestCharts:', error);\n",
              "      }\n",
              "      quickchartButtonEl.classList.remove('colab-df-spinner');\n",
              "      quickchartButtonEl.classList.add('colab-df-quickchart-complete');\n",
              "    }\n",
              "    (() => {\n",
              "      let quickchartButtonEl =\n",
              "        document.querySelector('#df-9f31fbe9-f57f-4b06-a634-8546b9b4725b button');\n",
              "      quickchartButtonEl.style.display =\n",
              "        google.colab.kernel.accessAllowed ? 'block' : 'none';\n",
              "    })();\n",
              "  </script>\n",
              "</div>\n",
              "    </div>\n",
              "  </div>\n"
            ]
          },
          "metadata": {},
          "execution_count": 204
        }
      ]
    },
    {
      "cell_type": "markdown",
      "source": [
        "(!) Explanation:\n",
        "\n",
        "*Normally, I would follow the same procedure as before to replace missing values for each column based on 'Activity Type'. However, for simplicity and considering that metrics like 'Total Ascent,' 'Total Descent,' 'Min Elevation,' and 'Max Elevation' are more relevant in 'Trail Running' activities, I chose a simplified approach by replacing missing values with zeros for these columns.*"
      ],
      "metadata": {
        "id": "_TDuSu_tlMtA"
      }
    },
    {
      "cell_type": "code",
      "source": [
        "# Replace missing values with zeros\n",
        "columns_to_replace_with_zeros = ['Total Ascent', 'Total Descent', 'Min Elevation', 'Max Elevation']\n",
        "df[columns_to_replace_with_zeros] = df[columns_to_replace_with_zeros].fillna(0)"
      ],
      "metadata": {
        "id": "6PVguxPZlMep"
      },
      "execution_count": 205,
      "outputs": []
    },
    {
      "cell_type": "code",
      "source": [
        "df.isna().sum()"
      ],
      "metadata": {
        "id": "ektr259YlYWI",
        "outputId": "e3d55674-f029-4bf2-ad5a-347fbb65fe18",
        "colab": {
          "base_uri": "https://localhost:8080/"
        }
      },
      "execution_count": 208,
      "outputs": [
        {
          "output_type": "execute_result",
          "data": {
            "text/plain": [
              "Activity Type        0\n",
              "Date                 0\n",
              "Title                0\n",
              "Distance             0\n",
              "Calories             0\n",
              "Time                 0\n",
              "Avg HR               0\n",
              "Max HR               0\n",
              "Avg Run Cadence      0\n",
              "Avg Pace             0\n",
              "Total Ascent         0\n",
              "Total Descent        0\n",
              "Avg Stride Length    0\n",
              "Min Temp             0\n",
              "Max Temp             0\n",
              "Moving Time          0\n",
              "Min Elevation        0\n",
              "Max Elevation        0\n",
              "dtype: int64"
            ]
          },
          "metadata": {},
          "execution_count": 208
        }
      ]
    }
  ]
}